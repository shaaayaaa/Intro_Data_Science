{
 "cells": [
  {
   "cell_type": "code",
   "execution_count": null,
   "metadata": {},
   "outputs": [],
   "source": [
    "from IPython.testing import test\n",
    "import cv2\n",
    "import os\n",
    "\n",
    "def load_images_from_folder(folder):\n",
    "    images = []\n",
    "    for filename in os.listdir(folder):\n",
    "        img = cv2.imread(os.path.join(folder,filename),cv2.IMREAD_GRAYSCALE)\n",
    "        if img is not None:\n",
    "            images.append(img)\n",
    "    return images"
   ]
  },
  {
   "cell_type": "code",
   "execution_count": null,
   "metadata": {},
   "outputs": [],
   "source": [
    "import tensorflow as tf\n",
    "from tensorflow import keras\n",
    "import numpy as np\n",
    "\n",
    "from numpy.matrixlib.defmatrix import matrix"
   ]
  },
  {
   "cell_type": "code",
   "execution_count": null,
   "metadata": {},
   "outputs": [],
   "source": [
    "train0= load_images_from_folder(\"/content/dataset-finger-count-0to5/train/0\")\n",
    "train1= load_images_from_folder(\"/content/dataset-finger-count-0to5/train/1\")\n",
    "train2= load_images_from_folder(\"/content/dataset-finger-count-0to5/train/2\")\n",
    "train3= load_images_from_folder(\"/content/dataset-finger-count-0to5/train/3\")\n",
    "train4= load_images_from_folder(\"/content/dataset-finger-count-0to5/train/4\")\n",
    "train5= load_images_from_folder(\"/content/dataset-finger-count-0to5/train/5\")\n"
   ]
  },
  {
   "cell_type": "code",
   "execution_count": null,
   "metadata": {},
   "outputs": [],
   "source": [
    "test0=load_images_from_folder(\"/content/dataset-finger-count-0to5/test/0\")\n",
    "test1=load_images_from_folder(\"/content/dataset-finger-count-0to5/test/1\")\n",
    "test2=load_images_from_folder(\"/content/dataset-finger-count-0to5/test/2\")\n",
    "test3=load_images_from_folder(\"/content/dataset-finger-count-0to5/test/3\")\n",
    "test4=load_images_from_folder(\"/content/dataset-finger-count-0to5/test/4\")\n",
    "test5=load_images_from_folder(\"/content/dataset-finger-count-0to5/test/5\")"
   ]
  },
  {
   "cell_type": "code",
   "execution_count": null,
   "metadata": {},
   "outputs": [],
   "source": [
    "y_test=np.hstack([np.repeat(0,len(test0)),\n",
    "                 np.repeat(1,len(test1)),\n",
    "                 np.repeat(2,len(test2)),\n",
    "                 np.repeat(3,len(test3)),\n",
    "                 np.repeat(4,len(test4)),\n",
    "                 np.repeat(5,len(test5))])\n",
    "y_train=np.hstack([np.repeat(0,len(train0)),\n",
    "                 np.repeat(1,len(train1)),\n",
    "                 np.repeat(2,len(train2)),\n",
    "                 np.repeat(3,len(train3)),\n",
    "                 np.repeat(4,len(train4)),\n",
    "                 np.repeat(5,len(train5))])"
   ]
  },
  {
   "cell_type": "code",
   "execution_count": null,
   "metadata": {},
   "outputs": [],
   "source": [
    "numberOfImages_test=len(test0)+len(test1)+len(test2)+len(test3)+len(test4)+len(test5)\n",
    "b=len(test0)\n",
    "ndarray_test=np.ndarray(shape=(numberOfImages_test,test0[0].shape[0],test0[0].shape[1]))\n",
    "print(ndarray_test.shape)\n",
    "for i in range(0,b):\n",
    "  ndarray_test[i]=test0[i]\n",
    "for i in range(0,b):\n",
    "  ndarray_test[i+b]=test1[i]\n",
    "for i in range(0,b):\n",
    "  ndarray_test[i+2*b]=test2[i]\n",
    "for i in range(0,b):\n",
    "  ndarray_test[i+3*b]=test3[i]\n",
    "for i in range(0,b):\n",
    "  ndarray_test[i+4*b]=test4[i]\n",
    "for i in range(0,b):\n",
    "  ndarray_test[i+5*b]=test5[i]"
   ]
  },
  {
   "cell_type": "code",
   "execution_count": null,
   "metadata": {},
   "outputs": [],
   "source": [
    "numberOfImages_train=len(train0)+len(train1)+len(train2)+len(train3)+len(train4)+len(train5)\n",
    "a=len(train0)\n",
    "ndarray_train=np.ndarray(shape=(numberOfImages_train,train0[0].shape[0],train0[0].shape[1]))\n",
    "print(ndarray_train.shape)\n",
    "for i in range(0,a):\n",
    "  ndarray_train[i]=train0[i]\n",
    "for i in range(0,a):\n",
    "  ndarray_train[i+a]=train1[i]\n",
    "for i in range(0,a):\n",
    "  ndarray_train[i+2*a]=train2[i]\n",
    "for i in range(0,a):\n",
    "  ndarray_train[i+3*a]=train3[i]\n",
    "for i in range(0,a):\n",
    "  ndarray_train[i+4*a]=train4[i]\n",
    "for i in range(0,a):\n",
    "  ndarray_train[i+5*a]=train5[i]"
   ]
  }
 ],
 "metadata": {
  "language_info": {
   "name": "python"
  }
 },
 "nbformat": 4,
 "nbformat_minor": 2
}
