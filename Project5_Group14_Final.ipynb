{
  "nbformat": 4,
  "nbformat_minor": 0,
  "metadata": {
    "colab": {
      "provenance": [],
      "toc_visible": true
    },
    "kernelspec": {
      "name": "python3",
      "display_name": "Python 3"
    },
    "language_info": {
      "name": "python"
    }
  },
  "cells": [
    {
      "cell_type": "code",
      "execution_count": null,
      "metadata": {
        "colab": {
          "base_uri": "https://localhost:8080/"
        },
        "id": "Pz50SyQHaO0X",
        "outputId": "d11d59bb-262f-4d4d-fec1-e7bfe99233aa"
      },
      "outputs": [
        {
          "output_type": "stream",
          "name": "stdout",
          "text": [
            "Archive:  /content/drive/MyDrive/Colab_Notebooks2/dataset-hands.zip\n",
            "replace dataset-finger-count-0to5/test/0/f5eb2608-b3bb-4b2f-8dc2-fe7dee9723b7.png? [y]es, [n]o, [A]ll, [N]one, [r]ename: n\n",
            "replace dataset-finger-count-0to5/test/0/e63157ca-b847-41f1-a238-fa807ad78980.png? [y]es, [n]o, [A]ll, [N]one, [r]ename: n\n",
            "replace dataset-finger-count-0to5/test/0/ec722d9f-1c50-4168-96bf-94544c914dd6.png? [y]es, [n]o, [A]ll, [N]one, [r]ename: Archive:  /content/drive/MyDrive/Colab_Notebooks2/dataset-hands.zip\n",
            "replace dataset-finger-count-0to5/test/0/f5eb2608-b3bb-4b2f-8dc2-fe7dee9723b7.png? [y]es, [n]o, [A]ll, [N]one, [r]ename: "
          ]
        }
      ],
      "source": [
        "!unzip /content/drive/MyDrive/dataset-hands.zip"
      ]
    },
    {
      "cell_type": "code",
      "source": [
        "import cv2\n",
        "import os\n",
        "\n",
        "def load_images_from_folder(folder):\n",
        "    images = []\n",
        "    for filename in os.listdir(folder):\n",
        "        img = cv2.imread(os.path.join(folder,filename),cv2.IMREAD_GRAYSCALE)\n",
        "        if img is not None:\n",
        "            images.append(img)\n",
        "    return images"
      ],
      "metadata": {
        "id": "hCURY8Jna534"
      },
      "execution_count": null,
      "outputs": []
    },
    {
      "cell_type": "code",
      "source": [
        "import tensorflow as tf\n",
        "from tensorflow import keras\n",
        "import numpy as np\n",
        "\n",
        "from numpy.matrixlib.defmatrix import matrix"
      ],
      "metadata": {
        "id": "I5s5YWxGa9WZ"
      },
      "execution_count": null,
      "outputs": []
    },
    {
      "cell_type": "code",
      "source": [
        "#loading images from train, test, and val folders\n",
        "\n",
        "train0= load_images_from_folder(\"dataset-finger-count-0to5/train/0\")\n",
        "train1= load_images_from_folder(\"dataset-finger-count-0to5/train/1\")\n",
        "train2= load_images_from_folder(\"dataset-finger-count-0to5/train/2\")\n",
        "train3= load_images_from_folder(\"dataset-finger-count-0to5/train/3\")\n",
        "train4= load_images_from_folder(\"dataset-finger-count-0to5/train/4\")\n",
        "train5= load_images_from_folder(\"dataset-finger-count-0to5/train/5\")\n",
        "\n",
        "\n",
        "test0=load_images_from_folder(\"dataset-finger-count-0to5/test/0\")\n",
        "test1=load_images_from_folder(\"dataset-finger-count-0to5/test/1\")\n",
        "test2=load_images_from_folder(\"dataset-finger-count-0to5/test/2\")\n",
        "test3=load_images_from_folder(\"dataset-finger-count-0to5/test/3\")\n",
        "test4=load_images_from_folder(\"dataset-finger-count-0to5/test/4\")\n",
        "test5=load_images_from_folder(\"dataset-finger-count-0to5/test/5\")"
      ],
      "metadata": {
        "id": "wdTzUP-obAma"
      },
      "execution_count": null,
      "outputs": []
    },
    {
      "cell_type": "code",
      "source": [
        "#printing the dimension and number of images in a folder\n",
        "print(\"Number of images in train folder:\", len(train0),\",\",len(train1),\",\",len(train2),\",\",len(train3),\",\",len(train4),\",\",len(train5))\n",
        "print(\"Number of images in test folder:\", len(test0),\",\",len(test1),\",\",len(test2),\",\",len(test3),\",\",len(test4),\",\",len(test5))\n",
        "\n",
        "#dimension and number of an image\n",
        "print(\"Dimension of each image:\", test0[0].shape)"
      ],
      "metadata": {
        "colab": {
          "base_uri": "https://localhost:8080/"
        },
        "id": "QJGqY5GkbE2T",
        "outputId": "de48e7d7-4798-4483-b750-db12fb0f9e31"
      },
      "execution_count": null,
      "outputs": [
        {
          "output_type": "stream",
          "name": "stdout",
          "text": [
            "Number of images in train folder: 2400 , 2400 , 2400 , 2400 , 2400 , 2400\n",
            "Number of images in test folder: 600 , 600 , 600 , 600 , 600 , 600\n",
            "Dimension of each image: (128, 128)\n"
          ]
        }
      ]
    },
    {
      "cell_type": "code",
      "source": [
        "#Define threshold to make the background black\n",
        "threshold=np.max(train0)/2\n",
        "#threshold=np.mean(train0)\n",
        "print(threshold)"
      ],
      "metadata": {
        "colab": {
          "base_uri": "https://localhost:8080/"
        },
        "id": "rNVgFw4ibPF3",
        "outputId": "811280ce-85a6-494b-8ef4-ec4d7eab892e"
      },
      "execution_count": null,
      "outputs": [
        {
          "output_type": "stream",
          "name": "stdout",
          "text": [
            "127.5\n"
          ]
        }
      ]
    },
    {
      "cell_type": "code",
      "source": [
        "import matplotlib.pyplot as plt\n",
        "\n",
        "#make the image black and white as 0 and 1\n",
        "a=train4[2]\n",
        "\n",
        "np.mean(a)\n",
        "\n",
        "a[a<threshold]=0\n",
        "a[a>=threshold]=1\n",
        "\n",
        "plt.imshow(a)"
      ],
      "metadata": {
        "colab": {
          "base_uri": "https://localhost:8080/",
          "height": 451
        },
        "id": "Aw1ZD7jebKIR",
        "outputId": "97ef7c52-743b-4df0-b811-65cba8fe3f66"
      },
      "execution_count": null,
      "outputs": [
        {
          "output_type": "execute_result",
          "data": {
            "text/plain": [
              "<matplotlib.image.AxesImage at 0x7fb98807e440>"
            ]
          },
          "metadata": {},
          "execution_count": 6
        },
        {
          "output_type": "display_data",
          "data": {
            "text/plain": [
              "<Figure size 640x480 with 1 Axes>"
            ],
            "image/png": "[encoded data removed]"
          },
          "metadata": {}
        }
      ]
    },
    {
      "cell_type": "code",
      "source": [
        "def find_bounding_box(image):\n",
        "    rows = np.any(image, axis=1)\n",
        "    cols = np.any(image, axis=0)\n",
        "    rmin, rmax = np.where(rows)[0][[0, -1]]\n",
        "    cmin, cmax = np.where(cols)[0][[0, -1]]\n",
        "    return rmin, rmax, cmin, cmax"
      ],
      "metadata": {
        "id": "4gBG0taCdDPE"
      },
      "execution_count": null,
      "outputs": []
    },
    {
      "cell_type": "code",
      "source": [
        "# crop the image\n",
        "\n",
        "rmin, rmax, cmin, cmax = find_bounding_box(a)\n",
        "\n",
        "a=a[rmin:rmax,cmin:cmax]\n",
        "\n",
        "plt.imshow(a)"
      ],
      "metadata": {
        "colab": {
          "base_uri": "https://localhost:8080/",
          "height": 450
        },
        "id": "xBq_F-hddFqC",
        "outputId": "13816c43-939e-4343-c722-a48535d8d9fb"
      },
      "execution_count": null,
      "outputs": [
        {
          "output_type": "execute_result",
          "data": {
            "text/plain": [
              "<matplotlib.image.AxesImage at 0x7fba15061360>"
            ]
          },
          "metadata": {},
          "execution_count": 8
        },
        {
          "output_type": "display_data",
          "data": {
            "text/plain": [
              "<Figure size 640x480 with 1 Axes>"
            ],
            "image/png": "[encoded data removed]"
          },
          "metadata": {}
        }
      ]
    },
    {
      "cell_type": "code",
      "source": [
        "# Trim the training sets by cropping and making the background black\n",
        "\n",
        "# Initialize a dictionary to store the common bounding box for each class\n",
        "common_bboxes = {}\n",
        "\n",
        "# Iterate through each class\n",
        "for class_name, class_data in zip([\"0\", \"1\", \"2\", \"3\", \"4\", \"5\"], [train0, train1, train2, train3, train4, train5]):\n",
        "    common_bbox = None\n",
        "\n",
        "    # Iterate through each image in the class\n",
        "    for image in class_data:\n",
        "\n",
        "        threshold=np.max(image)/2\n",
        "\n",
        "        # make the image black and white as 0 and 1\n",
        "        image[image<threshold]=0\n",
        "        image[image>=threshold]=1\n",
        "\n",
        "        # crop the image\n",
        "        rmin, rmax, cmin, cmax = find_bounding_box(image)\n",
        "\n",
        "        # Update common bounding box\n",
        "        if common_bbox is None:\n",
        "            common_bbox = (rmin, rmax, cmin, cmax)\n",
        "        else:\n",
        "            common_bbox = (\n",
        "                min(common_bbox[0], rmin),\n",
        "                max(common_bbox[1], rmax),\n",
        "                min(common_bbox[2], cmin),\n",
        "                max(common_bbox[3], cmax))\n",
        "\n",
        "    # Store the common bounding box for the class\n",
        "    common_bboxes[class_name] = common_bbox\n",
        "\n",
        "# Apply the common bounding box to all images for each class\n",
        "processed_images_withCrop = {}\n",
        "processed_images_withoutCrop = {}\n",
        "\n",
        "for class_name, class_data in zip([\"0\", \"1\", \"2\", \"3\", \"4\", \"5\"], [train0, train1, train2, train3, train4, train5]):\n",
        "    common_bbox = common_bboxes[class_name]\n",
        "\n",
        "    # Apply the common bounding box to all images in the class\n",
        "    processed_images_withoutCrop[class_name] = [image for image in class_data]\n",
        "    processed_images_withCrop[class_name] = [image[rmin:rmax, cmin:cmax] for image in class_data]\n",
        "\n"
      ],
      "metadata": {
        "id": "1v9wPulQeRb1"
      },
      "execution_count": null,
      "outputs": []
    },
    {
      "cell_type": "code",
      "source": [
        "train0_withCrop=processed_images_withCrop[\"0\"]\n",
        "train1_withCrop=processed_images_withCrop[\"1\"]\n",
        "train2_withCrop=processed_images_withCrop[\"2\"]\n",
        "train3_withCrop=processed_images_withCrop[\"3\"]\n",
        "train4_withCrop=processed_images_withCrop[\"4\"]\n",
        "train5_withCrop=processed_images_withCrop[\"5\"]\n",
        "\n",
        "train0_withoutCrop=processed_images_withoutCrop[\"0\"]\n",
        "train1_withoutCrop=processed_images_withoutCrop[\"1\"]\n",
        "train2_withoutCrop=processed_images_withoutCrop[\"2\"]\n",
        "train3_withoutCrop=processed_images_withoutCrop[\"3\"]\n",
        "train4_withoutCrop=processed_images_withoutCrop[\"4\"]\n",
        "train5_withoutCrop=processed_images_withoutCrop[\"5\"]"
      ],
      "metadata": {
        "id": "VcNWlH4RgLL3"
      },
      "execution_count": null,
      "outputs": []
    },
    {
      "cell_type": "code",
      "source": [
        "# plot a cropped training image\n",
        "a2=train5_withoutCrop[1]\n",
        "plt.imshow(a2)"
      ],
      "metadata": {
        "colab": {
          "base_uri": "https://localhost:8080/",
          "height": 451
        },
        "id": "bJVKuSgcJpD3",
        "outputId": "03e37bd0-534a-4c3c-ae0c-0cbef4545b06"
      },
      "execution_count": null,
      "outputs": [
        {
          "output_type": "execute_result",
          "data": {
            "text/plain": [
              "<matplotlib.image.AxesImage at 0x7fb985d99840>"
            ]
          },
          "metadata": {},
          "execution_count": 11
        },
        {
          "output_type": "display_data",
          "data": {
            "text/plain": [
              "<Figure size 640x480 with 1 Axes>"
            ],
            "image/png": "[encoded data removed]"
          },
          "metadata": {}
        }
      ]
    },
    {
      "cell_type": "code",
      "source": [
        "# plot a cropped training image\n",
        "a2=train5_withCrop[1]\n",
        "\n",
        "plt.imshow(a2)"
      ],
      "metadata": {
        "colab": {
          "base_uri": "https://localhost:8080/",
          "height": 450
        },
        "id": "rFeeFgnRdkvs",
        "outputId": "d15a8cf8-1300-4fd7-c4c8-486f4baf2dbe"
      },
      "execution_count": null,
      "outputs": [
        {
          "output_type": "execute_result",
          "data": {
            "text/plain": [
              "<matplotlib.image.AxesImage at 0x7fb985b6f340>"
            ]
          },
          "metadata": {},
          "execution_count": 12
        },
        {
          "output_type": "display_data",
          "data": {
            "text/plain": [
              "<Figure size 640x480 with 1 Axes>"
            ],
            "image/png": "[encoded data removed]"
          },
          "metadata": {}
        }
      ]
    },
    {
      "cell_type": "code",
      "source": [
        "#since the size of all training images are equal we select the sizeImage as follow\n",
        "sizeImage_withoutCrop = train0_withoutCrop[0].shape[0]\n",
        "sizeImage_withCrop = train0_withCrop[0].shape[0]\n",
        "print(sizeImage_withoutCrop)\n",
        "print(sizeImage_withCrop)"
      ],
      "metadata": {
        "colab": {
          "base_uri": "https://localhost:8080/"
        },
        "id": "qZEtP8GNhsGb",
        "outputId": "571b6e8c-deab-40d6-eae6-20a26f76b774"
      },
      "execution_count": null,
      "outputs": [
        {
          "output_type": "stream",
          "name": "stdout",
          "text": [
            "128\n",
            "73\n"
          ]
        }
      ]
    },
    {
      "cell_type": "code",
      "source": [
        "# make ndarray for train data\n",
        "numberOfImages_train=len(train0)+len(train1)+len(train2)+len(train3)+len(train4)+len(train5)\n",
        "b0=len(train0)\n",
        "b1=len(train1)\n",
        "b2=len(train2)\n",
        "b3=len(train3)\n",
        "b4=len(train4)\n",
        "b5=len(train5)\n",
        "\n",
        "# ndarray with crop\n",
        "ndarray_train_withoutCrop=np.ndarray(shape=(numberOfImages_train,sizeImage_withoutCrop,sizeImage_withoutCrop))\n",
        "print(ndarray_train_withoutCrop.shape)\n",
        "for i in range(0,b0):\n",
        "  ndarray_train_withoutCrop[i]=cv2.resize(train0_withoutCrop[i], (sizeImage_withoutCrop, sizeImage_withoutCrop))\n",
        "for i in range(0,b1):\n",
        "  ndarray_train_withoutCrop[i+b0]=cv2.resize(train1_withoutCrop[i], (sizeImage_withoutCrop, sizeImage_withoutCrop))\n",
        "for i in range(0,b2):\n",
        "  ndarray_train_withoutCrop[i+b0+b1]=cv2.resize(train2_withoutCrop[i], (sizeImage_withoutCrop, sizeImage_withoutCrop))\n",
        "for i in range(0,b3):\n",
        "  ndarray_train_withoutCrop[i+b0+b1+b2]=cv2.resize(train3_withoutCrop[i], (sizeImage_withoutCrop, sizeImage_withoutCrop))\n",
        "for i in range(0,b4):\n",
        "  ndarray_train_withoutCrop[i+b0+b1+b2+b3]=cv2.resize(train4_withoutCrop[i], (sizeImage_withoutCrop, sizeImage_withoutCrop))\n",
        "for i in range(0,b5):\n",
        "  ndarray_train_withoutCrop[i+b0+b1+b2+b3+b4]=cv2.resize(train5_withoutCrop[i], (sizeImage_withoutCrop, sizeImage_withoutCrop))\n",
        "\n",
        "\n",
        "# ndarray with without crop\n",
        "ndarray_train_withCrop=np.ndarray(shape=(numberOfImages_train,sizeImage_withCrop,sizeImage_withCrop))\n",
        "print(ndarray_train_withCrop.shape)\n",
        "for i in range(0,b0):\n",
        "  ndarray_train_withCrop[i]=cv2.resize(train0_withCrop[i], (sizeImage_withCrop, sizeImage_withCrop))\n",
        "for i in range(0,b1):\n",
        "  ndarray_train_withCrop[i+b0]=cv2.resize(train1_withCrop[i], (sizeImage_withCrop, sizeImage_withCrop))\n",
        "for i in range(0,b2):\n",
        "  ndarray_train_withCrop[i+b0+b1]=cv2.resize(train2_withCrop[i], (sizeImage_withCrop, sizeImage_withCrop))\n",
        "for i in range(0,b3):\n",
        "  ndarray_train_withCrop[i+b0+b1+b2]=cv2.resize(train3_withCrop[i], (sizeImage_withCrop, sizeImage_withCrop))\n",
        "for i in range(0,b4):\n",
        "  ndarray_train_withCrop[i+b0+b1+b2+b3]=cv2.resize(train4_withCrop[i], (sizeImage_withCrop, sizeImage_withCrop))\n",
        "for i in range(0,b5):\n",
        "  ndarray_train_withCrop[i+b0+b1+b2+b3+b4]=cv2.resize(train5_withCrop[i], (sizeImage_withCrop, sizeImage_withCrop))\n",
        "\n",
        "print(ndarray_train_withoutCrop.shape)\n",
        "print(ndarray_train_withCrop.shape)\n"
      ],
      "metadata": {
        "colab": {
          "base_uri": "https://localhost:8080/"
        },
        "id": "f7tRPtgZibjg",
        "outputId": "19ee831f-a0ce-4480-d69b-09ff5c13ef22"
      },
      "execution_count": null,
      "outputs": [
        {
          "output_type": "stream",
          "name": "stdout",
          "text": [
            "(14400, 128, 128)\n",
            "(14400, 73, 73)\n",
            "(14400, 128, 128)\n",
            "(14400, 73, 73)\n"
          ]
        }
      ]
    },
    {
      "cell_type": "code",
      "source": [
        "#####################################################\n",
        "#####################################################\n",
        "# Classificatio whith cropping"
      ],
      "metadata": {
        "id": "2hN5t_80juEV"
      },
      "execution_count": null,
      "outputs": []
    },
    {
      "cell_type": "code",
      "source": [
        "#sizeImage=sizeImage_withoutCrop\n",
        "sizeImage=sizeImage_withCrop\n",
        "\n",
        "# make ndarray for test data\n",
        "numberOfImages_test=len(test0)+len(test1)+len(test2)+len(test3)+len(test4)+len(test5)\n",
        "b0=len(test0)\n",
        "b1=len(test1)\n",
        "b2=len(test2)\n",
        "b3=len(test3)\n",
        "b4=len(test4)\n",
        "b5=len(test5)\n",
        "\n",
        "ndarray_test=np.ndarray(shape=(numberOfImages_test,sizeImage,sizeImage))\n",
        "print(ndarray_test.shape)\n",
        "for i in range(0,b0):\n",
        "  ndarray_test[i]=cv2.resize(test0[i], (sizeImage, sizeImage))\n",
        "for i in range(0,b1):\n",
        "  ndarray_test[i+b0]=cv2.resize(test1[i], (sizeImage, sizeImage))\n",
        "for i in range(0,b2):\n",
        "  ndarray_test[i+b0+b1]=cv2.resize(test2[i], (sizeImage, sizeImage))\n",
        "for i in range(0,b3):\n",
        "  ndarray_test[i+b0+b1+b2]=cv2.resize(test3[i], (sizeImage, sizeImage))\n",
        "for i in range(0,b4):\n",
        "  ndarray_test[i+b0+b1+b2+b3]=cv2.resize(test4[i], (sizeImage, sizeImage))\n",
        "for i in range(0,b5):\n",
        "  ndarray_test[i+b0+b1+b2+b3+b4]=cv2.resize(test5[i], (sizeImage, sizeImage))\n",
        "\n",
        "print(ndarray_test.shape)\n"
      ],
      "metadata": {
        "colab": {
          "base_uri": "https://localhost:8080/"
        },
        "id": "vxCfk_ulidKG",
        "outputId": "ecb2ebc0-34b2-4cc3-833e-8300ffa97a4f"
      },
      "execution_count": null,
      "outputs": [
        {
          "output_type": "stream",
          "name": "stdout",
          "text": [
            "(3600, 73, 73)\n",
            "(3600, 73, 73)\n"
          ]
        }
      ]
    },
    {
      "cell_type": "code",
      "source": [
        "# make the background black for test data\n",
        "ndarray_test[ndarray_test<threshold]=0\n",
        "ndarray_test[ndarray_test>=threshold]=1"
      ],
      "metadata": {
        "id": "Cs-1PlMdS6bS"
      },
      "execution_count": null,
      "outputs": []
    },
    {
      "cell_type": "code",
      "source": [
        "#Label the pictures, x will be considered as a pictures\n",
        "#We need a label for each file\n",
        "y_train=np.hstack([np.repeat(0,len(train0)),\n",
        "                 np.repeat(1,len(train1)),\n",
        "                 np.repeat(2,len(train2)),\n",
        "                 np.repeat(3,len(train3)),\n",
        "                 np.repeat(4,len(train4)),\n",
        "                 np.repeat(5,len(train5))])\n",
        "y_test=np.hstack([np.repeat(0,len(test0)),\n",
        "                 np.repeat(1,len(test1)),\n",
        "                 np.repeat(2,len(test2)),\n",
        "                 np.repeat(3,len(test3)),\n",
        "                 np.repeat(4,len(test4)),\n",
        "                 np.repeat(5,len(test5))])\n",
        "\n",
        "print(y_train)\n",
        "print(y_train.shape)\n",
        "print(y_test.shape)"
      ],
      "metadata": {
        "colab": {
          "base_uri": "https://localhost:8080/"
        },
        "id": "w57PY2-sijdi",
        "outputId": "41469375-fa76-46c9-9db1-cfa7bb5856ef"
      },
      "execution_count": null,
      "outputs": [
        {
          "output_type": "stream",
          "name": "stdout",
          "text": [
            "[0 0 0 ... 5 5 5]\n",
            "(14400,)\n",
            "(3600,)\n"
          ]
        }
      ]
    },
    {
      "cell_type": "code",
      "source": [
        "#rename the variables to be compatible with the example provided in lecture.\n",
        "X_test=ndarray_test\n",
        "X_train=ndarray_train_withCrop\n",
        "#X_train=ndarray_train_withoutCrop\n",
        "\n",
        "#X_train=ndarray_train_withoutCrop\n",
        "\n",
        "print(\"Training: \", X_train.shape, y_train.shape)\n",
        "print(\"Test: \", X_test.shape, y_test.shape)"
      ],
      "metadata": {
        "colab": {
          "base_uri": "https://localhost:8080/"
        },
        "id": "ZQlm_AQlinp8",
        "outputId": "eb49b001-0e5d-41d7-dea5-a5dc344bf636"
      },
      "execution_count": null,
      "outputs": [
        {
          "output_type": "stream",
          "name": "stdout",
          "text": [
            "Training:  (14400, 73, 73) (14400,)\n",
            "Test:  (3600, 73, 73) (3600,)\n"
          ]
        }
      ]
    },
    {
      "cell_type": "code",
      "source": [
        "#from keras.utils.np_utils  import to_categorical\n",
        "from tensorflow.keras.utils  import to_categorical\n",
        "y_train = to_categorical(y_train, num_classes=None)\n",
        "y_test = to_categorical(y_test, num_classes=None)"
      ],
      "metadata": {
        "id": "5XnDKmSAitB6"
      },
      "execution_count": null,
      "outputs": []
    },
    {
      "cell_type": "code",
      "source": [
        "num_classes = y_train.shape[1]\n",
        "print(num_classes)"
      ],
      "metadata": {
        "colab": {
          "base_uri": "https://localhost:8080/"
        },
        "id": "0nFH8Dvsivfr",
        "outputId": "9da05503-20fa-4639-8bc1-34bfd801d5c5"
      },
      "execution_count": null,
      "outputs": [
        {
          "output_type": "stream",
          "name": "stdout",
          "text": [
            "6\n"
          ]
        }
      ]
    },
    {
      "cell_type": "code",
      "source": [
        "print(y_test.shape)\n",
        "print(X_test.shape)\n",
        "print(y_train.shape)\n",
        "print(X_train.shape)"
      ],
      "metadata": {
        "colab": {
          "base_uri": "https://localhost:8080/"
        },
        "id": "4cGhB-MIi1JE",
        "outputId": "241c4513-95dd-4b07-c55c-75c0c0de93c4"
      },
      "execution_count": null,
      "outputs": [
        {
          "output_type": "stream",
          "name": "stdout",
          "text": [
            "(3600, 6)\n",
            "(3600, 73, 73)\n",
            "(14400, 6)\n",
            "(14400, 73, 73)\n"
          ]
        }
      ]
    },
    {
      "cell_type": "code",
      "source": [
        "from tensorflow.keras import layers, models\n",
        "\n",
        "# Create a Sequential model for a Convolutional Neural Network (CNN)\n",
        "model = models.Sequential()\n",
        "\n",
        "# Convolutional layers\n",
        "model.add(layers.Conv2D(32, (3, 3), activation='relu', input_shape=(sizeImage, sizeImage, 1)))\n",
        "model.add(layers.MaxPooling2D((2, 2)))\n",
        "\n",
        "model.add(layers.Conv2D(64, (3, 3), activation='relu'))\n",
        "model.add(layers.MaxPooling2D((2, 2)))\n",
        "\n",
        "# model.add(layers.Conv2D(128, (3, 3), activation='relu'))\n",
        "# model.add(layers.MaxPooling2D((2, 2)))\n",
        "\n",
        "# Flatten the output for fully connected layers\n",
        "model.add(layers.Flatten())\n",
        "\n",
        "# Fully connected layers\n",
        "model.add(layers.Dense(512, activation='relu'))\n",
        "model.add(layers.Dropout(0.5))  # Dropout for regularization\n",
        "\n",
        "model.add(layers.Dense(num_classes, activation='softmax'))  # Output layer with num_classes=6 classes (0-5 fingers)\n",
        "\n",
        "model.summary()\n"
      ],
      "metadata": {
        "colab": {
          "base_uri": "https://localhost:8080/"
        },
        "id": "Jz9BopfNi_dp",
        "outputId": "edfe0607-1d91-49ad-a4ed-c09fc892b1ed"
      },
      "execution_count": null,
      "outputs": [
        {
          "output_type": "stream",
          "name": "stdout",
          "text": [
            "Model: \"sequential_1\"\n",
            "_________________________________________________________________\n",
            " Layer (type)                Output Shape              Param #   \n",
            "=================================================================\n",
            " conv2d_2 (Conv2D)           (None, 71, 71, 32)        320       \n",
            "                                                                 \n",
            " max_pooling2d_2 (MaxPoolin  (None, 35, 35, 32)        0         \n",
            " g2D)                                                            \n",
            "                                                                 \n",
            " conv2d_3 (Conv2D)           (None, 33, 33, 64)        18496     \n",
            "                                                                 \n",
            " max_pooling2d_3 (MaxPoolin  (None, 16, 16, 64)        0         \n",
            " g2D)                                                            \n",
            "                                                                 \n",
            " flatten_1 (Flatten)         (None, 16384)             0         \n",
            "                                                                 \n",
            " dense_2 (Dense)             (None, 512)               8389120   \n",
            "                                                                 \n",
            " dropout_1 (Dropout)         (None, 512)               0         \n",
            "                                                                 \n",
            " dense_3 (Dense)             (None, 6)                 3078      \n",
            "                                                                 \n",
            "=================================================================\n",
            "Total params: 8411014 (32.09 MB)\n",
            "Trainable params: 8411014 (32.09 MB)\n",
            "Non-trainable params: 0 (0.00 Byte)\n",
            "_________________________________________________________________\n"
          ]
        }
      ]
    },
    {
      "cell_type": "code",
      "source": [
        "#the model is compidel base on the example\n",
        "learning_rate = 0.001\n",
        "loss_fn = tf.keras.losses.CategoricalCrossentropy(from_logits=False) # from_logits is true when output of model is not probability but a logit(number)\n",
        "optimizer = keras.optimizers.SGD(learning_rate=learning_rate)\n",
        "#optimizer = keras.optimizers.Adam(learning_rate=learning_rate)\n",
        "\n",
        "# keras.metrics to get more evaluation metrics\n",
        "# metric = tf.keras.metrics.TopKCategoricalAccuracy(k=1, name=\"Top-1 Accuracy\")\n",
        "model.compile(loss=loss_fn, optimizer=optimizer, metrics=['accuracy'])\n",
        "# base_model.compile(loss=loss_fn, optimizer=optimizer, metrics=metric)"
      ],
      "metadata": {
        "id": "dbRi1MKQjBlc"
      },
      "execution_count": null,
      "outputs": []
    },
    {
      "cell_type": "code",
      "source": [
        "n = 4 # number of epochs\n",
        "log = model.fit(X_train, y_train, validation_data=(X_test, y_test), epochs=n, batch_size=256)"
      ],
      "metadata": {
        "colab": {
          "base_uri": "https://localhost:8080/"
        },
        "id": "2QX0yonXjINH",
        "outputId": "b88766c1-b815-4fbf-b05d-fb171f5f4637"
      },
      "execution_count": null,
      "outputs": [
        {
          "output_type": "stream",
          "name": "stdout",
          "text": [
            "Epoch 1/4\n",
            "57/57 [==============================] - 137s 2s/step - loss: 1.7776 - accuracy: 0.1923 - val_loss: 20.9972 - val_accuracy: 0.1667\n",
            "Epoch 2/4\n",
            "57/57 [==============================] - 139s 2s/step - loss: 1.7174 - accuracy: 0.3522 - val_loss: 12.5917 - val_accuracy: 0.1733\n",
            "Epoch 3/4\n",
            "57/57 [==============================] - 137s 2s/step - loss: 1.6538 - accuracy: 0.5435 - val_loss: 10.2482 - val_accuracy: 0.2358\n",
            "Epoch 4/4\n",
            "57/57 [==============================] - 136s 2s/step - loss: 1.5754 - accuracy: 0.6708 - val_loss: 15.0191 - val_accuracy: 0.2283\n"
          ]
        }
      ]
    },
    {
      "cell_type": "code",
      "source": [
        "x = list(range(n))\n",
        "y = log.history['accuracy']\n",
        "z = log.history['val_accuracy']\n",
        "\n",
        "plt.plot(x,y,'r', label = \"Training\")\n",
        "plt.plot(x,z,'b', label = \"Validation\")\n",
        "plt.legend()"
      ],
      "metadata": {
        "colab": {
          "base_uri": "https://localhost:8080/",
          "height": 447
        },
        "id": "jjhWvrU5jOXz",
        "outputId": "26d216ab-3d43-49a1-ad4f-f81bf8821217"
      },
      "execution_count": null,
      "outputs": [
        {
          "output_type": "execute_result",
          "data": {
            "text/plain": [
              "<matplotlib.legend.Legend at 0x7fb944f9f790>"
            ]
          },
          "metadata": {},
          "execution_count": 36
        },
        {
          "output_type": "display_data",
          "data": {
            "text/plain": [
              "<Figure size 640x480 with 1 Axes>"
            ],
            "image/png": "[encoded data removed]"
          },
          "metadata": {}
        }
      ]
    },
    {
      "cell_type": "code",
      "source": [
        "#####################################################\n",
        "#####################################################\n",
        "# Classificatio whithout cropping"
      ],
      "metadata": {
        "id": "nR2q3sn0k3L3"
      },
      "execution_count": null,
      "outputs": []
    },
    {
      "cell_type": "code",
      "source": [
        "sizeImage=sizeImage_withoutCrop\n",
        "\n",
        "# make ndarray for test data\n",
        "numberOfImages_test=len(test0)+len(test1)+len(test2)+len(test3)+len(test4)+len(test5)\n",
        "b0=len(test0)\n",
        "b1=len(test1)\n",
        "b2=len(test2)\n",
        "b3=len(test3)\n",
        "b4=len(test4)\n",
        "b5=len(test5)\n",
        "\n",
        "ndarray_test=np.ndarray(shape=(numberOfImages_test,sizeImage,sizeImage))\n",
        "print(ndarray_test.shape)\n",
        "for i in range(0,b0):\n",
        "  ndarray_test[i]=cv2.resize(test0[i], (sizeImage, sizeImage))\n",
        "for i in range(0,b1):\n",
        "  ndarray_test[i+b0]=cv2.resize(test1[i], (sizeImage, sizeImage))\n",
        "for i in range(0,b2):\n",
        "  ndarray_test[i+b0+b1]=cv2.resize(test2[i], (sizeImage, sizeImage))\n",
        "for i in range(0,b3):\n",
        "  ndarray_test[i+b0+b1+b2]=cv2.resize(test3[i], (sizeImage, sizeImage))\n",
        "for i in range(0,b4):\n",
        "  ndarray_test[i+b0+b1+b2+b3]=cv2.resize(test4[i], (sizeImage, sizeImage))\n",
        "for i in range(0,b5):\n",
        "  ndarray_test[i+b0+b1+b2+b3+b4]=cv2.resize(test5[i], (sizeImage, sizeImage))\n",
        "\n",
        "print(ndarray_test.shape)\n",
        "\n"
      ],
      "metadata": {
        "colab": {
          "base_uri": "https://localhost:8080/"
        },
        "id": "d4ivTG-COT48",
        "outputId": "5ec0d79e-1418-436d-e414-cde0a6856a13"
      },
      "execution_count": null,
      "outputs": [
        {
          "output_type": "stream",
          "name": "stdout",
          "text": [
            "(3600, 128, 128)\n",
            "(3600, 128, 128)\n"
          ]
        }
      ]
    },
    {
      "cell_type": "code",
      "source": [
        "#rename the variables to be compatible with the example provided in lecture.\n",
        "X_test=ndarray_test\n",
        "X_train=ndarray_train_withoutCrop\n",
        "\n",
        "#X_train=ndarray_train_withoutCrop\n",
        "\n",
        "print(\"Training: \", X_train.shape, y_train.shape)\n",
        "print(\"Test: \", X_test.shape, y_test.shape)"
      ],
      "metadata": {
        "colab": {
          "base_uri": "https://localhost:8080/"
        },
        "id": "wvPOkylYOeqn",
        "outputId": "750befc7-eef7-41ca-e2c7-6ade19c6b25c"
      },
      "execution_count": null,
      "outputs": [
        {
          "output_type": "stream",
          "name": "stdout",
          "text": [
            "Training:  (14400, 128, 128) (14400, 6)\n",
            "Test:  (3600, 128, 128) (3600, 6)\n"
          ]
        }
      ]
    },
    {
      "cell_type": "code",
      "source": [
        "from tensorflow.keras import layers, models\n",
        "\n",
        "# Create a Sequential model for a Convolutional Neural Network (CNN)\n",
        "model = models.Sequential()\n",
        "\n",
        "# Convolutional layers\n",
        "model.add(layers.Conv2D(32, (3, 3), activation='relu', input_shape=(sizeImage, sizeImage, 1)))\n",
        "model.add(layers.MaxPooling2D((2, 2)))\n",
        "\n",
        "model.add(layers.Conv2D(64, (3, 3), activation='relu'))\n",
        "model.add(layers.MaxPooling2D((2, 2)))\n",
        "\n",
        "# model.add(layers.Conv2D(128, (3, 3), activation='relu'))\n",
        "# model.add(layers.MaxPooling2D((2, 2)))\n",
        "\n",
        "# Flatten the output for fully connected layers\n",
        "model.add(layers.Flatten())\n",
        "\n",
        "# Fully connected layers\n",
        "model.add(layers.Dense(512, activation='relu'))\n",
        "model.add(layers.Dropout(0.5))  # Dropout for regularization\n",
        "\n",
        "model.add(layers.Dense(num_classes, activation='softmax'))  # Output layer with num_classes=6 classes (0-5 fingers)\n",
        "\n",
        "model.summary()"
      ],
      "metadata": {
        "colab": {
          "base_uri": "https://localhost:8080/"
        },
        "id": "Vqufs9GAdjxO",
        "outputId": "5a165909-ef00-4d33-d67e-a31bfe2944b4"
      },
      "execution_count": null,
      "outputs": [
        {
          "output_type": "stream",
          "name": "stdout",
          "text": [
            "Model: \"sequential_2\"\n",
            "_________________________________________________________________\n",
            " Layer (type)                Output Shape              Param #   \n",
            "=================================================================\n",
            " conv2d_4 (Conv2D)           (None, 126, 126, 32)      320       \n",
            "                                                                 \n",
            " max_pooling2d_4 (MaxPoolin  (None, 63, 63, 32)        0         \n",
            " g2D)                                                            \n",
            "                                                                 \n",
            " conv2d_5 (Conv2D)           (None, 61, 61, 64)        18496     \n",
            "                                                                 \n",
            " max_pooling2d_5 (MaxPoolin  (None, 30, 30, 64)        0         \n",
            " g2D)                                                            \n",
            "                                                                 \n",
            " flatten_2 (Flatten)         (None, 57600)             0         \n",
            "                                                                 \n",
            " dense_4 (Dense)             (None, 512)               29491712  \n",
            "                                                                 \n",
            " dropout_2 (Dropout)         (None, 512)               0         \n",
            "                                                                 \n",
            " dense_5 (Dense)             (None, 6)                 3078      \n",
            "                                                                 \n",
            "=================================================================\n",
            "Total params: 29513606 (112.59 MB)\n",
            "Trainable params: 29513606 (112.59 MB)\n",
            "Non-trainable params: 0 (0.00 Byte)\n",
            "_________________________________________________________________\n"
          ]
        }
      ]
    },
    {
      "cell_type": "code",
      "source": [
        "#the model is compidel base on the example\n",
        "learning_rate = 0.001\n",
        "loss_fn = tf.keras.losses.CategoricalCrossentropy(from_logits=False) # from_logits is true when output of model is not probability but a logit(number)\n",
        "optimizer = keras.optimizers.SGD(learning_rate=learning_rate)\n",
        "#optimizer = keras.optimizers.Adam(learning_rate=learning_rate)\n",
        "\n",
        "# keras.metrics to get more evaluation metrics\n",
        "# metric = tf.keras.metrics.TopKCategoricalAccuracy(k=1, name=\"Top-1 Accuracy\")\n",
        "model.compile(loss=loss_fn, optimizer=optimizer, metrics=['accuracy'])\n",
        "# base_model.compile(loss=loss_fn, optimizer=optimizer, metrics=metric)"
      ],
      "metadata": {
        "id": "2lqMUL2YOr-9"
      },
      "execution_count": null,
      "outputs": []
    },
    {
      "cell_type": "code",
      "source": [
        "n = 4 # number of epochs\n",
        "log = model.fit(X_train, y_train, validation_data=(X_test, y_test), epochs=n, batch_size=256)"
      ],
      "metadata": {
        "colab": {
          "base_uri": "https://localhost:8080/"
        },
        "id": "prLtYEI-O9wO",
        "outputId": "8cb56768-bfa7-4401-c1ee-537b4071b06a"
      },
      "execution_count": null,
      "outputs": [
        {
          "output_type": "stream",
          "name": "stdout",
          "text": [
            "Epoch 1/4\n",
            "57/57 [==============================] - 432s 8s/step - loss: 1.7550 - accuracy: 0.3574 - val_loss: 4.9884 - val_accuracy: 0.3728\n",
            "Epoch 2/4\n",
            "57/57 [==============================] - 434s 8s/step - loss: 1.6538 - accuracy: 0.6647 - val_loss: 5.6381 - val_accuracy: 0.5403\n",
            "Epoch 3/4\n",
            "57/57 [==============================] - 447s 8s/step - loss: 1.5297 - accuracy: 0.8006 - val_loss: 7.2593 - val_accuracy: 0.6078\n",
            "Epoch 4/4\n",
            "57/57 [==============================] - 488s 9s/step - loss: 1.3450 - accuracy: 0.8595 - val_loss: 18.7871 - val_accuracy: 0.5133\n"
          ]
        }
      ]
    },
    {
      "cell_type": "code",
      "source": [
        "x = list(range(n))\n",
        "y = log.history['accuracy']\n",
        "z = log.history['val_accuracy']\n",
        "\n",
        "plt.plot(x,y,'r', label = \"Training\")\n",
        "plt.plot(x,z,'b', label = \"Validation\")\n",
        "plt.legend()"
      ],
      "metadata": {
        "colab": {
          "base_uri": "https://localhost:8080/",
          "height": 447
        },
        "id": "Lql8XJU4PAll",
        "outputId": "be5c44a6-00ba-42a0-f44f-7c37185b9487"
      },
      "execution_count": null,
      "outputs": [
        {
          "output_type": "execute_result",
          "data": {
            "text/plain": [
              "<matplotlib.legend.Legend at 0x7fb94745f190>"
            ]
          },
          "metadata": {},
          "execution_count": 50
        },
        {
          "output_type": "display_data",
          "data": {
            "text/plain": [
              "<Figure size 640x480 with 1 Axes>"
            ],
            "image/png": "[encoded data removed]"
          },
          "metadata": {}
        }
      ]
    }
  ]
}